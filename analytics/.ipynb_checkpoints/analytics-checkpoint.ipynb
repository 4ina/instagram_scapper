{
 "cells": [
  {
   "cell_type": "code",
   "execution_count": 1,
   "metadata": {},
   "outputs": [],
   "source": [
    "import pandas as pd\n",
    "import matplotlib.pyplot as plt\n",
    "from pandas.tools.plotting import table"
   ]
  },
  {
   "cell_type": "code",
   "execution_count": 18,
   "metadata": {},
   "outputs": [],
   "source": [
    "data_user=pd.read_csv(\"users.csv\",delimiter=';')"
   ]
  },
  {
   "cell_type": "code",
   "execution_count": 19,
   "metadata": {},
   "outputs": [
    {
     "data": {
      "text/html": [
       "<div>\n",
       "<style scoped>\n",
       "    .dataframe tbody tr th:only-of-type {\n",
       "        vertical-align: middle;\n",
       "    }\n",
       "\n",
       "    .dataframe tbody tr th {\n",
       "        vertical-align: top;\n",
       "    }\n",
       "\n",
       "    .dataframe thead th {\n",
       "        text-align: right;\n",
       "    }\n",
       "</style>\n",
       "<table border=\"1\" class=\"dataframe\">\n",
       "  <thead>\n",
       "    <tr style=\"text-align: right;\">\n",
       "      <th></th>\n",
       "      <th>account_name</th>\n",
       "      <th>followers_count</th>\n",
       "      <th>following_count</th>\n",
       "    </tr>\n",
       "  </thead>\n",
       "  <tbody>\n",
       "    <tr>\n",
       "      <th>0</th>\n",
       "      <td>just_4ina</td>\n",
       "      <td>293</td>\n",
       "      <td>295</td>\n",
       "    </tr>\n",
       "    <tr>\n",
       "      <th>1</th>\n",
       "      <td>sapargalinauryzbay</td>\n",
       "      <td>223</td>\n",
       "      <td>247</td>\n",
       "    </tr>\n",
       "    <tr>\n",
       "      <th>2</th>\n",
       "      <td>justaskhat</td>\n",
       "      <td>421</td>\n",
       "      <td>1062</td>\n",
       "    </tr>\n",
       "    <tr>\n",
       "      <th>3</th>\n",
       "      <td>timur.a.k_03</td>\n",
       "      <td>49</td>\n",
       "      <td>170</td>\n",
       "    </tr>\n",
       "    <tr>\n",
       "      <th>4</th>\n",
       "      <td>abyllash</td>\n",
       "      <td>186</td>\n",
       "      <td>179</td>\n",
       "    </tr>\n",
       "  </tbody>\n",
       "</table>\n",
       "</div>"
      ],
      "text/plain": [
       "         account_name  followers_count  following_count\n",
       "0           just_4ina              293              295\n",
       "1  sapargalinauryzbay              223              247\n",
       "2          justaskhat              421             1062\n",
       "3        timur.a.k_03               49              170\n",
       "4            abyllash              186              179"
      ]
     },
     "execution_count": 19,
     "metadata": {},
     "output_type": "execute_result"
    }
   ],
   "source": [
    "data_user.head()"
   ]
  },
  {
   "cell_type": "markdown",
   "metadata": {},
   "source": [
    "## Выбрать юзера с максимальным followers_count (Популярный аккуант)\n"
   ]
  },
  {
   "cell_type": "code",
   "execution_count": 21,
   "metadata": {},
   "outputs": [
    {
     "name": "stderr",
     "output_type": "stream",
     "text": [
      "C:\\Users\\User\\Anaconda3\\lib\\site-packages\\ipykernel_launcher.py:8: FutureWarning: 'pandas.tools.plotting.table' is deprecated, import 'pandas.plotting.table' instead.\n",
      "  \n"
     ]
    },
    {
     "data": {
      "text/plain": [
       "<matplotlib.table.Table at 0x683d662710>"
      ]
     },
     "execution_count": 21,
     "metadata": {},
     "output_type": "execute_result"
    },
    {
     "data": {
      "image/png": "[encoded data removed]",
      "text/plain": [
       "<Figure size 432x288 with 1 Axes>"
      ]
     },
     "metadata": {
      "needs_background": "light"
     },
     "output_type": "display_data"
    }
   ],
   "source": [
    "account_fols_max=data_user.followers_count.max()\n",
    "user_max_followers=data_user[data_user.followers_count==account_fols_max]\n",
    "ax = plt.subplot(111, frame_on=False) \n",
    "ax.xaxis.set_visible(False)  \n",
    "ax.yaxis.set_visible(False)  \n",
    "\n",
    "table(ax, user_max_followers) "
   ]
  },
  {
   "cell_type": "markdown",
   "metadata": {},
   "source": [
    "## Выбрать юзера с максимальным following_count\n"
   ]
  },
  {
   "cell_type": "code",
   "execution_count": 22,
   "metadata": {},
   "outputs": [
    {
     "name": "stderr",
     "output_type": "stream",
     "text": [
      "C:\\Users\\User\\Anaconda3\\lib\\site-packages\\ipykernel_launcher.py:8: FutureWarning: 'pandas.tools.plotting.table' is deprecated, import 'pandas.plotting.table' instead.\n",
      "  \n"
     ]
    },
    {
     "data": {
      "text/plain": [
       "<matplotlib.table.Table at 0x683d6b2ba8>"
      ]
     },
     "execution_count": 22,
     "metadata": {},
     "output_type": "execute_result"
    },
    {
     "data": {
      "image/png": "[encoded data removed]",
      "text/plain": [
       "<Figure size 432x288 with 1 Axes>"
      ]
     },
     "metadata": {
      "needs_background": "light"
     },
     "output_type": "display_data"
    }
   ],
   "source": [
    "account_folg_max=data_user.following_count.max()\n",
    "user_max_folg=data_user[data_user.following_count==account_folg_max]\n",
    "ax = plt.subplot(111, frame_on=False) \n",
    "ax.xaxis.set_visible(False)  \n",
    "ax.yaxis.set_visible(False)  \n",
    "\n",
    "table(ax, user_max_folg) "
   ]
  },
  {
   "cell_type": "markdown",
   "metadata": {},
   "source": [
    "## Можно ли сказать что аккуант fariza2912 самый популярный? Скорее всего у него больше подписчиков, потому что много подписок \n"
   ]
  },
  {
   "cell_type": "code",
   "execution_count": 23,
   "metadata": {},
   "outputs": [
    {
     "name": "stdout",
     "output_type": "stream",
     "text": [
      "0     0.993220\n",
      "1     0.902834\n",
      "2     0.396422\n",
      "3     0.288235\n",
      "4     1.039106\n",
      "5     0.987654\n",
      "6     3.727273\n",
      "7     0.917910\n",
      "8     1.019417\n",
      "9     0.801075\n",
      "10    0.947368\n",
      "11    0.826558\n",
      "12    0.682594\n",
      "13    3.321526\n",
      "14    0.572082\n",
      "15    0.633117\n",
      "16    0.637450\n",
      "17    0.529617\n",
      "18    2.112613\n",
      "19    0.297468\n",
      "20    1.073569\n",
      "21    1.431711\n",
      "22    0.559083\n",
      "23    1.369697\n",
      "24    0.363208\n",
      "25    1.489209\n",
      "26    0.518919\n",
      "27    0.719298\n",
      "28    1.173010\n",
      "dtype: float64\n"
     ]
    },
    {
     "name": "stderr",
     "output_type": "stream",
     "text": [
      "C:\\Users\\User\\Anaconda3\\lib\\site-packages\\ipykernel_launcher.py:11: FutureWarning: 'pandas.tools.plotting.table' is deprecated, import 'pandas.plotting.table' instead.\n",
      "  # This is added back by InteractiveShellApp.init_path()\n"
     ]
    },
    {
     "data": {
      "text/plain": [
       "<matplotlib.table.Table at 0x683d731908>"
      ]
     },
     "execution_count": 23,
     "metadata": {},
     "output_type": "execute_result"
    },
    {
     "data": {
      "image/png": "[encoded data removed]",
      "text/plain": [
       "<Figure size 432x288 with 1 Axes>"
      ]
     },
     "metadata": {
      "needs_background": "light"
     },
     "output_type": "display_data"
    }
   ],
   "source": [
    "a=data_user.followers_count/data_user.following_count\n",
    "print(a)\n",
    "max_per=a.max()\n",
    "user_popular=data_user[data_user.followers_count/data_user.following_count==max_per]\n",
    "\n",
    "ax = plt.subplot(111, frame_on=False) \n",
    "ax.xaxis.set_visible(False)  \n",
    "ax.yaxis.set_visible(False)  \n",
    "\n",
    "table(ax, user_popular) \n",
    "\n"
   ]
  },
  {
   "cell_type": "markdown",
   "metadata": {},
   "source": [
    "## Самая популярная страница perizat.mukhanova. Так как там концентрация подписчиков больше подписок\n"
   ]
  },
  {
   "cell_type": "code",
   "execution_count": 26,
   "metadata": {},
   "outputs": [
    {
     "data": {
      "text/plain": [
       "'<table border=\"1\" class=\"dataframe\">\\n  <thead>\\n    <tr style=\"text-align: right;\">\\n      <th></th>\\n      <th>account_name</th>\\n      <th>followers_count</th>\\n      <th>following_count</th>\\n    </tr>\\n  </thead>\\n  <tbody>\\n    <tr>\\n      <th>7</th>\\n      <td>justaskhat</td>\\n      <td>419</td>\\n      <td>1062</td>\\n    </tr>\\n  </tbody>\\n</table>'"
      ]
     },
     "execution_count": 26,
     "metadata": {},
     "output_type": "execute_result"
    }
   ],
   "source": []
  },
  {
   "cell_type": "code",
   "execution_count": null,
   "metadata": {},
   "outputs": [],
   "source": [
    "data_posts=pd.read_csv(\"posts1.csv\",delimiter=';')\n",
    "#Среднее кол-во лайков у каждого аккаунта\n",
    "accounts = data_posts.groupby('account')\n",
    "mean_acc_likes=accounts['likes_count'].agg(np.mean)\n",
    "print(mean_acc_likes)\n",
    "sum_acc_likes=accounts['likes_count'].agg(np.sum)\n",
    "print(sum_acc_likes)\n",
    "print(data_posts.groupby('account').nunique())\n",
    "#Аккаунт с максимальным среднем кол-вем лайков\n",
    "account_mean_max=mean_acc_likes.max()\n",
    "account_max_mean_likes=mean_acc_likes[mean_acc_likes==account_mean_max]\n",
    "print(account_max_mean_likes)\n",
    "ax = plt.subplot(111, frame_on=False) \n",
    "ax.xaxis.set_visible(False)  \n",
    "ax.yaxis.set_visible(False)  \n",
    "\n",
    "table(ax, account_max_mean_likes)\n",
    "#Свод по локациям\n",
    "a=data_posts.groupby('location').count()\n",
    "a.account.max()\n",
    "print(a)\n",
    "#Минимальное кол-во лайков по хэштэгу и максимальное\n",
    "hashtags = data_posts.groupby('hashatags')\n",
    "sum_likes_hashtags=hashtags['likes_count'].agg(np.sum).sort_values()\n",
    "print(sum_likes_hashtags)\n"
   ]
  },
  {
   "cell_type": "code",
   "execution_count": null,
   "metadata": {},
   "outputs": [],
   "source": [
    "# https://stackoverflow.com/questions/55928947/how-to-delimit-a-csv-file-with-semicolons\n",
    "import csv\n",
    "# \n",
    "#         self.account_name = account_name\n",
    "#         self.posts = [] \n",
    "#         self.followers = []\n",
    "#         self.following = {}\n",
    "#         self.followers_count = 0\n",
    "#         self.following_count = 0\n",
    "\n",
    "with open('users.csv','w',newline='',encoding='utf-8') as csv_file:\n",
    "    csv_writer = csv.writer(csv_file,delimiter=';')\n",
    "    csv_writer.writerow([\"account_name\", \"followers_count\", \"following_count\"]) #\"followers\", \"following\"])\n",
    "    \n",
    "    for user in output_to_csv:\n",
    "#         followers = \" \".join(user.followers)\n",
    "#         following = \" \".join(user.following)\n",
    "        csv_writer.writerow(\n",
    "            [f\"{user.account_name}\", f\"{user.followers_count}\", \n",
    "             f\"{user.following_count}\"\n",
    "#              f\"{followers}\", \n",
    "#              f\"{following}\"\n",
    "            ])\n",
    "\n",
    "with open('users.csv','r',newline='',encoding='utf-8') as csv_file:\n",
    "    csv_reader = csv.reader(csv_file, delimiter=';')\n",
    "    for row in csv_reader:\n",
    "        print(row)"
   ]
  },
  {
   "cell_type": "code",
   "execution_count": null,
   "metadata": {},
   "outputs": [],
   "source": [
    "#    POSTS\n",
    "#         self.likes_count = 0\n",
    "#         self.location = self.getLocation()\n",
    "#         self.description = self.getDescription()\n",
    "#         self.hashtags = self.getHashtags()\n",
    "#         self.typeOfPhoto = self.getType()\n",
    "#         if self.typeOfPhoto == 'photo':\n",
    "#             self.likes = self.setLikesAccounts()\n",
    "import csv\n",
    "\n",
    "# account\tposts\tlike_count\tlocation\ttype\n",
    "# 1\t1\t10\t\t\n",
    "# 1\t2\t11\t\t\n",
    "# 1\t3\t13\t\t\n",
    "# 2\t1\t11\t\t\n",
    "# 2\t2\t1\t\t\n",
    "# 2\t3\t22\t\t\n",
    "# 2\t4\t33\t\t\n",
    "# hastags description \"likes\"\n",
    "#f\"{post.description}\", \n",
    "#                 f\"{post.typeOfPhoto}\", f\"{hashtags}\", f\"{likes}\"\n",
    "with open('posts.csv','w',newline='',encoding='utf-8') as csv_file:\n",
    "    csv_writer = csv.writer(csv_file,delimiter=';')\n",
    "    \n",
    "    csv_writer.writerow(\n",
    "        [f\"account\", \"posts\", \"likes_count\", \n",
    "         f\"location\", f\"type\", \"description\", \"hashatags\", 'date'\n",
    "        ])\n",
    "    for user in output:\n",
    "        for post in user.posts:\n",
    "#             likes = \" \".join(post.likes)\n",
    "            post.description = post.description.replace(',', ' ')\n",
    "            hashtags = \" \".join(post.hashtags)\n",
    "            csv_writer.writerow(\n",
    "                [f\"{user.account_name}\", f\"{post.link}\", f\"{post.likes_count}\", \n",
    "                 f\"{post.location}\", f\"{post.type}\", f\"{post.description}\",f\"{hashtags}\", f\"{post.date}\"\n",
    "                ])\n",
    "\n",
    "with open('posts.csv','r',newline='',encoding='utf-8') as csv_file:\n",
    "    csv_reader = csv.reader(csv_file, delimiter=';')\n",
    "    for row in csv_reader:\n",
    "        print(row)\n"
   ]
  },
  {
   "cell_type": "code",
   "execution_count": null,
   "metadata": {},
   "outputs": [],
   "source": [
    "with open('post_likes_desc.csv','w',newline='',encoding='utf-8') as csv_file:\n",
    "    csv_writer = csv.writer(csv_file,delimiter=';')\n",
    "    \n",
    "# hastags description \"likes\"\n",
    "#f\"{post.description}\", \n",
    "#                 f\"{post.typeOfPhoto}\", f\"{hashtags}\", f\"{likes}\"\n",
    "    csv_writer.writerow(\n",
    "        [f\"account\", \"posts\", \"likes\",])\n",
    "    for user in output_to_csv:\n",
    "        for post in user.posts:\n",
    "            for like in post.likes:\n",
    "                print\n",
    "                csv_writer.writerow(\n",
    "                        [f\"{user.account_name}\", f\"{post.link}\", f\"{like}\"])\n",
    "\n",
    "with open('post_likes_desc.csv','r',newline='',encoding='utf-8') as csv_file:\n",
    "    csv_reader = csv.reader(csv_file, delimiter=';')\n",
    "    for row in csv_reader:\n",
    "        print(row)\n"
   ]
  },
  {
   "cell_type": "code",
   "execution_count": null,
   "metadata": {},
   "outputs": [],
   "source": [
    "import csv\n",
    "csv_output = []\n",
    "accounts = []\n",
    "with open('posts.csv','r',newline='',encoding='utf-8') as csv_file:\n",
    "    csv_reader = csv.reader(csv_file, delimiter=';')\n",
    "    for row in csv_reader:\n",
    "        csv_output.append(row)\n",
    "csv_output.pop(0)\n",
    "\n",
    "d = {}\n",
    "import matplotlib.pyplot as plt\n",
    "\n",
    "for row in csv_output:\n",
    "    name = row[0]\n",
    "    post_link = row[1]\n",
    "    likes_count = int(row[2])\n",
    "    likes = d.get(name, [])\n",
    "    likes.insert(0, likes_count)\n",
    "    d[name] = likes\n",
    "\n",
    "    \n",
    "    \n",
    "plt.figure(figsize=(6,3))\n",
    "\n",
    "for name in d:\n",
    "    x = [i for i in range(1,len(d[name])+1)]\n",
    "    y = d[name]\n",
    "    plt.plot(x, y, 'yo-')\n",
    "    plt.title(f'{name}', size=18)\n",
    "    # here we add all the values\n",
    "    # we also specify font size and color\n",
    "    for i,j in zip(x,y):\n",
    "        inplot = plt.annotate(str(j),xy=(i,j+1),fontsize=12,color='red')\n",
    "    plt.ylabel('likes')\n",
    "    plt.show()\n",
    "    "
   ]
  }
 ],
 "metadata": {
  "kernelspec": {
   "display_name": "Python 3",
   "language": "python",
   "name": "python3"
  },
  "language_info": {
   "codemirror_mode": {
    "name": "ipython",
    "version": 3
   },
   "file_extension": ".py",
   "mimetype": "text/x-python",
   "name": "python",
   "nbconvert_exporter": "python",
   "pygments_lexer": "ipython3",
   "version": "3.6.9"
  }
 },
 "nbformat": 4,
 "nbformat_minor": 2
}
